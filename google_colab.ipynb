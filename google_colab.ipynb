{
  "cells": [
    {
      "cell_type": "markdown",
      "metadata": {
        "id": "WAJ7lA2wuvR8"
      },
      "source": [
        "# 运行教程\n",
        "\n",
        "1. 点击“修改” -> \"笔记本设置\" -> \"硬件加速器GPU\" -> 保存\n",
        "<img src=\"https://z3.ax1x.com/2021/03/30/ciQWWV.png\">\n",
        "\n",
        "2. 点左侧文件夹图标，上传视频文件，复制上传的视频路径\n",
        "\n",
        "<img src=\"https://z3.ax1x.com/2021/03/30/cilvhq.png\">\n",
        "\n",
        "3. 运行代码， 输入粘贴的视频路径\n",
        "\n",
        "\n"
      ]
    },
    {
      "cell_type": "markdown",
      "metadata": {
        "id": "_jPi_FBwyZyr"
      },
      "source": [
        "查看是否有GPU"
      ]
    },
    {
      "cell_type": "code",
      "execution_count": 2,
      "metadata": {
        "id": "eHPHc_Bheo-j",
        "outputId": "7b83abf4-12a9-4c9c-ba34-795f47dcbee2",
        "colab": {
          "base_uri": "https://localhost:8080/"
        }
      },
      "outputs": [
        {
          "output_type": "stream",
          "name": "stdout",
          "text": [
            "Sun Mar 16 18:08:45 2025       \n",
            "+-----------------------------------------------------------------------------------------+\n",
            "| NVIDIA-SMI 550.54.15              Driver Version: 550.54.15      CUDA Version: 12.4     |\n",
            "|-----------------------------------------+------------------------+----------------------+\n",
            "| GPU  Name                 Persistence-M | Bus-Id          Disp.A | Volatile Uncorr. ECC |\n",
            "| Fan  Temp   Perf          Pwr:Usage/Cap |           Memory-Usage | GPU-Util  Compute M. |\n",
            "|                                         |                        |               MIG M. |\n",
            "|=========================================+========================+======================|\n",
            "|   0  Tesla T4                       Off |   00000000:00:04.0 Off |                    0 |\n",
            "| N/A   41C    P8             10W /   70W |       0MiB /  15360MiB |      0%      Default |\n",
            "|                                         |                        |                  N/A |\n",
            "+-----------------------------------------+------------------------+----------------------+\n",
            "                                                                                         \n",
            "+-----------------------------------------------------------------------------------------+\n",
            "| Processes:                                                                              |\n",
            "|  GPU   GI   CI        PID   Type   Process name                              GPU Memory |\n",
            "|        ID   ID                                                               Usage      |\n",
            "|=========================================================================================|\n",
            "|  No running processes found                                                             |\n",
            "+-----------------------------------------------------------------------------------------+\n"
          ]
        }
      ],
      "source": [
        "!nvidia-smi"
      ]
    },
    {
      "cell_type": "code",
      "execution_count": 3,
      "metadata": {
        "id": "TkQKKGKZkkT2",
        "outputId": "7af4b6a1-57ae-4697-af2d-afe003efcb55",
        "colab": {
          "base_uri": "https://localhost:8080/"
        }
      },
      "outputs": [
        {
          "output_type": "stream",
          "name": "stdout",
          "text": [
            "nvcc: NVIDIA (R) Cuda compiler driver\n",
            "Copyright (c) 2005-2024 NVIDIA Corporation\n",
            "Built on Thu_Jun__6_02:18:23_PDT_2024\n",
            "Cuda compilation tools, release 12.5, V12.5.82\n",
            "Build cuda_12.5.r12.5/compiler.34385749_0\n"
          ]
        }
      ],
      "source": [
        "!nvcc -V"
      ]
    },
    {
      "cell_type": "markdown",
      "metadata": {
        "id": "_85O6zgPyhto"
      },
      "source": [
        "# 安装依赖"
      ]
    },
    {
      "cell_type": "code",
      "execution_count": 5,
      "metadata": {
        "id": "ICeq0T1FeqjT",
        "outputId": "491c814b-9595-4572-d1e5-5fa23de783e3",
        "colab": {
          "base_uri": "https://localhost:8080/"
        }
      },
      "outputs": [
        {
          "output_type": "stream",
          "name": "stdout",
          "text": [
            "fatal: destination path 'video-subtitle-extractor' already exists and is not an empty directory.\n"
          ]
        }
      ],
      "source": [
        "!git clone --depth=1 https://github.com/YaoFANGUK/video-subtitle-extractor.git"
      ]
    },
    {
      "cell_type": "code",
      "execution_count": 6,
      "metadata": {
        "id": "GHutEWynkMKR",
        "outputId": "daf8238e-6023-4d5e-8584-1be84fcd644e",
        "colab": {
          "base_uri": "https://localhost:8080/"
        }
      },
      "outputs": [
        {
          "output_type": "stream",
          "name": "stdout",
          "text": [
            "/content/video-subtitle-extractor\n"
          ]
        }
      ],
      "source": [
        "cd video-subtitle-extractor"
      ]
    },
    {
      "cell_type": "code",
      "execution_count": 8,
      "metadata": {
        "id": "ynJydzo1kMKR",
        "outputId": "3eb16ea8-dd75-42b5-a5f1-d223fdb0e0b5",
        "colab": {
          "base_uri": "https://localhost:8080/"
        }
      },
      "outputs": [
        {
          "output_type": "stream",
          "name": "stdout",
          "text": [
            "Requirement already satisfied: opencv-python==4.10.0.84 in /usr/local/lib/python3.11/dist-packages (from -r requirements.txt (line 1)) (4.10.0.84)\n",
            "Requirement already satisfied: python-Levenshtein==0.26.0 in /usr/local/lib/python3.11/dist-packages (from -r requirements.txt (line 2)) (0.26.0)\n",
            "Requirement already satisfied: pillow==10.4.0 in /usr/local/lib/python3.11/dist-packages (from -r requirements.txt (line 3)) (10.4.0)\n",
            "Requirement already satisfied: tqdm==4.66.5 in /usr/local/lib/python3.11/dist-packages (from -r requirements.txt (line 4)) (4.66.5)\n",
            "Requirement already satisfied: filesplit==3.0.2 in /usr/local/lib/python3.11/dist-packages (from -r requirements.txt (line 5)) (3.0.2)\n",
            "Requirement already satisfied: pysrt==1.1.2 in /usr/local/lib/python3.11/dist-packages (from -r requirements.txt (line 6)) (1.1.2)\n",
            "Requirement already satisfied: wordsegment==1.3.1 in /usr/local/lib/python3.11/dist-packages (from -r requirements.txt (line 7)) (1.3.1)\n",
            "Requirement already satisfied: scikit-image==0.24.0 in /usr/local/lib/python3.11/dist-packages (from -r requirements.txt (line 8)) (0.24.0)\n",
            "Requirement already satisfied: lmdb==1.5.1 in /usr/local/lib/python3.11/dist-packages (from -r requirements.txt (line 9)) (1.5.1)\n",
            "Requirement already satisfied: imgaug==0.4.0 in /usr/local/lib/python3.11/dist-packages (from -r requirements.txt (line 10)) (0.4.0)\n",
            "Requirement already satisfied: pyclipper==1.3.0.post5 in /usr/local/lib/python3.11/dist-packages (from -r requirements.txt (line 11)) (1.3.0.post5)\n",
            "Requirement already satisfied: PySimpleGUI in /usr/local/lib/python3.11/dist-packages (from -r requirements.txt (line 12)) (5.0.8.2)\n",
            "Requirement already satisfied: numpy==1.26.4 in /usr/local/lib/python3.11/dist-packages (from -r requirements.txt (line 13)) (1.26.4)\n",
            "Requirement already satisfied: Levenshtein==0.26.0 in /usr/local/lib/python3.11/dist-packages (from python-Levenshtein==0.26.0->-r requirements.txt (line 2)) (0.26.0)\n",
            "Requirement already satisfied: chardet in /usr/local/lib/python3.11/dist-packages (from pysrt==1.1.2->-r requirements.txt (line 6)) (5.2.0)\n",
            "Requirement already satisfied: scipy>=1.9 in /usr/local/lib/python3.11/dist-packages (from scikit-image==0.24.0->-r requirements.txt (line 8)) (1.14.1)\n",
            "Requirement already satisfied: networkx>=2.8 in /usr/local/lib/python3.11/dist-packages (from scikit-image==0.24.0->-r requirements.txt (line 8)) (3.4.2)\n",
            "Requirement already satisfied: imageio>=2.33 in /usr/local/lib/python3.11/dist-packages (from scikit-image==0.24.0->-r requirements.txt (line 8)) (2.37.0)\n",
            "Requirement already satisfied: tifffile>=2022.8.12 in /usr/local/lib/python3.11/dist-packages (from scikit-image==0.24.0->-r requirements.txt (line 8)) (2025.2.18)\n",
            "Requirement already satisfied: packaging>=21 in /usr/local/lib/python3.11/dist-packages (from scikit-image==0.24.0->-r requirements.txt (line 8)) (24.2)\n",
            "Requirement already satisfied: lazy-loader>=0.4 in /usr/local/lib/python3.11/dist-packages (from scikit-image==0.24.0->-r requirements.txt (line 8)) (0.4)\n",
            "Requirement already satisfied: six in /usr/local/lib/python3.11/dist-packages (from imgaug==0.4.0->-r requirements.txt (line 10)) (1.17.0)\n",
            "Requirement already satisfied: matplotlib in /usr/local/lib/python3.11/dist-packages (from imgaug==0.4.0->-r requirements.txt (line 10)) (3.10.0)\n",
            "Requirement already satisfied: Shapely in /usr/local/lib/python3.11/dist-packages (from imgaug==0.4.0->-r requirements.txt (line 10)) (2.0.7)\n",
            "Requirement already satisfied: rapidfuzz<4.0.0,>=3.9.0 in /usr/local/lib/python3.11/dist-packages (from Levenshtein==0.26.0->python-Levenshtein==0.26.0->-r requirements.txt (line 2)) (3.12.2)\n",
            "Requirement already satisfied: contourpy>=1.0.1 in /usr/local/lib/python3.11/dist-packages (from matplotlib->imgaug==0.4.0->-r requirements.txt (line 10)) (1.3.1)\n",
            "Requirement already satisfied: cycler>=0.10 in /usr/local/lib/python3.11/dist-packages (from matplotlib->imgaug==0.4.0->-r requirements.txt (line 10)) (0.12.1)\n",
            "Requirement already satisfied: fonttools>=4.22.0 in /usr/local/lib/python3.11/dist-packages (from matplotlib->imgaug==0.4.0->-r requirements.txt (line 10)) (4.56.0)\n",
            "Requirement already satisfied: kiwisolver>=1.3.1 in /usr/local/lib/python3.11/dist-packages (from matplotlib->imgaug==0.4.0->-r requirements.txt (line 10)) (1.4.8)\n",
            "Requirement already satisfied: pyparsing>=2.3.1 in /usr/local/lib/python3.11/dist-packages (from matplotlib->imgaug==0.4.0->-r requirements.txt (line 10)) (3.2.1)\n",
            "Requirement already satisfied: python-dateutil>=2.7 in /usr/local/lib/python3.11/dist-packages (from matplotlib->imgaug==0.4.0->-r requirements.txt (line 10)) (2.8.2)\n"
          ]
        }
      ],
      "source": [
        "!pip install -r requirements.txt"
      ]
    },
    {
      "cell_type": "code",
      "execution_count": 12,
      "metadata": {
        "id": "3-GdvmaGl-aF",
        "outputId": "7698919d-3b18-4353-bc34-505b5a06bdd3",
        "colab": {
          "base_uri": "https://localhost:8080/"
        }
      },
      "outputs": [
        {
          "output_type": "stream",
          "name": "stdout",
          "text": [
            "Looking in links: https://www.paddlepaddle.org.cn/whl/linux/mkl/avx/stable.html\n",
            "Collecting paddlepaddle-gpu==2.6.1.post120\n",
            "  Downloading https://paddle-wheel.bj.bcebos.com/2.6.1/linux/linux-gpu-cuda12.0-cudnn8.9-mkl-gcc12.2-avx/paddlepaddle_gpu-2.6.1.post120-cp311-cp311-linux_x86_64.whl (796.8 MB)\n",
            "\u001b[2K     \u001b[90m━━━━━━━━━━━━━━━━━━━━━━━━━━━━━━━━━━━━━━━━\u001b[0m \u001b[32m796.8/796.8 MB\u001b[0m \u001b[31m1.2 MB/s\u001b[0m eta \u001b[36m0:00:00\u001b[0m\n",
            "\u001b[?25hRequirement already satisfied: httpx in /usr/local/lib/python3.11/dist-packages (from paddlepaddle-gpu==2.6.1.post120) (0.28.1)\n",
            "Requirement already satisfied: numpy>=1.13 in /usr/local/lib/python3.11/dist-packages (from paddlepaddle-gpu==2.6.1.post120) (1.26.4)\n",
            "Requirement already satisfied: Pillow in /usr/local/lib/python3.11/dist-packages (from paddlepaddle-gpu==2.6.1.post120) (10.4.0)\n",
            "Requirement already satisfied: decorator in /usr/local/lib/python3.11/dist-packages (from paddlepaddle-gpu==2.6.1.post120) (4.4.2)\n",
            "Collecting astor (from paddlepaddle-gpu==2.6.1.post120)\n",
            "  Downloading astor-0.8.1-py2.py3-none-any.whl.metadata (4.2 kB)\n",
            "Collecting opt-einsum==3.3.0 (from paddlepaddle-gpu==2.6.1.post120)\n",
            "  Downloading opt_einsum-3.3.0-py3-none-any.whl.metadata (6.5 kB)\n",
            "Requirement already satisfied: protobuf>=3.20.2 in /usr/local/lib/python3.11/dist-packages (from paddlepaddle-gpu==2.6.1.post120) (4.25.6)\n",
            "Requirement already satisfied: anyio in /usr/local/lib/python3.11/dist-packages (from httpx->paddlepaddle-gpu==2.6.1.post120) (3.7.1)\n",
            "Requirement already satisfied: certifi in /usr/local/lib/python3.11/dist-packages (from httpx->paddlepaddle-gpu==2.6.1.post120) (2025.1.31)\n",
            "Requirement already satisfied: httpcore==1.* in /usr/local/lib/python3.11/dist-packages (from httpx->paddlepaddle-gpu==2.6.1.post120) (1.0.7)\n",
            "Requirement already satisfied: idna in /usr/local/lib/python3.11/dist-packages (from httpx->paddlepaddle-gpu==2.6.1.post120) (3.10)\n",
            "Requirement already satisfied: h11<0.15,>=0.13 in /usr/local/lib/python3.11/dist-packages (from httpcore==1.*->httpx->paddlepaddle-gpu==2.6.1.post120) (0.14.0)\n",
            "Requirement already satisfied: sniffio>=1.1 in /usr/local/lib/python3.11/dist-packages (from anyio->httpx->paddlepaddle-gpu==2.6.1.post120) (1.3.1)\n",
            "Downloading opt_einsum-3.3.0-py3-none-any.whl (65 kB)\n",
            "\u001b[2K   \u001b[90m━━━━━━━━━━━━━━━━━━━━━━━━━━━━━━━━━━━━━━━━\u001b[0m \u001b[32m65.5/65.5 kB\u001b[0m \u001b[31m2.9 MB/s\u001b[0m eta \u001b[36m0:00:00\u001b[0m\n",
            "\u001b[?25hDownloading astor-0.8.1-py2.py3-none-any.whl (27 kB)\n",
            "Installing collected packages: opt-einsum, astor, paddlepaddle-gpu\n",
            "  Attempting uninstall: opt-einsum\n",
            "    Found existing installation: opt_einsum 3.4.0\n",
            "    Uninstalling opt_einsum-3.4.0:\n",
            "      Successfully uninstalled opt_einsum-3.4.0\n",
            "Successfully installed astor-0.8.1 opt-einsum-3.3.0 paddlepaddle-gpu-2.6.1.post120\n"
          ]
        }
      ],
      "source": [
        "!pip install paddlepaddle-gpu==2.6.1.post120 -f https://www.paddlepaddle.org.cn/whl/linux/mkl/avx/stable.html"
      ]
    },
    {
      "cell_type": "markdown",
      "metadata": {
        "id": "SGb0i3tPyw9Q"
      },
      "source": [
        "# 运行程序"
      ]
    },
    {
      "cell_type": "markdown",
      "metadata": {
        "id": "gUpig6OnJJzY"
      },
      "source": [
        "输入视频路径，如：/content/video-subtitle-extractor/test/test_cn2.mp4\n",
        "\n",
        "输入字幕区域，如：842 1069 72 1368"
      ]
    },
    {
      "cell_type": "code",
      "execution_count": null,
      "metadata": {
        "id": "B2MPjMOOgGbD",
        "outputId": "52fae960-c3bf-4fd7-9e8f-2a9d998ae3e3",
        "colab": {
          "base_uri": "https://localhost:8080/"
        }
      },
      "outputs": [
        {
          "output_type": "stream",
          "name": "stdout",
          "text": [
            "请输入视频完整路径：/content/video-subtitle-extractor/test/002.mp4\n",
            "请指定字幕区域 (ymin ymax xmin xmax)：635 683 194 1121\n",
            "识别字幕语言：ch\n",
            "识别模式：fast\n",
            "使用GPU进行加速\n",
            "帧数：40988.0，帧率：25.0\n",
            "V4-ch_det_fast\n",
            "V4-ch_rec_fast\n",
            "【处理中】开启提取视频关键帧...\n",
            "18:19:17: Logging wxScroll1\n",
            "18:19:17: Starting program...\n",
            "18:19:17: CVideoSubFinderApp::OnInitCmdLine...\n",
            "m_VC.isOpened(): 1 path: /content/video-subtitle-extractor/test/002.mp4 No such file or directory\n",
            "【处理中】开始提取字幕信息，此步骤可能花费较长时间，请耐心等待...\n",
            "\n",
            "  0% 0/40988 [00:00<?, ?it/s]\u001b[A\n",
            "  2% 840/40988 [00:10<08:19, 80.30it/s]\u001b[A\n",
            "  3% 1112/40988 [00:16<09:57, 66.69it/s]\u001b[A\n",
            "  3% 1366/40988 [00:21<11:13, 58.87it/s]\u001b[A\n",
            "  4% 1739/40988 [00:27<10:36, 61.66it/s]\u001b[A\n",
            "  5% 1995/40988 [00:32<11:31, 56.43it/s]\u001b[A\n",
            "  6% 2345/40988 [00:38<11:01, 58.37it/s]\u001b[A\n",
            "  6% 2505/40988 [00:43<13:03, 49.10it/s]\u001b[A\n",
            "  6% 2657/40988 [00:48<14:41, 43.49it/s]\u001b[A\n",
            "  7% 2862/40988 [00:54<15:15, 41.66it/s]\u001b[A\n",
            "  8% 3208/40988 [00:59<12:49, 49.09it/s]\u001b[A\n",
            "  8% 3411/40988 [01:05<14:01, 44.68it/s]\u001b[A\n",
            "  9% 3809/40988 [01:10<11:44, 52.75it/s]\u001b[A\n",
            " 10% 4193/40988 [01:17<11:06, 55.18it/s]\u001b[A\n",
            " 11% 4424/40988 [01:23<12:07, 50.26it/s]\u001b[A\n",
            " 12% 4782/40988 [01:29<11:20, 53.20it/s]\u001b[A\n",
            " 12% 5078/40988 [01:35<11:23, 52.53it/s]\u001b[A"
          ]
        }
      ],
      "source": [
        "!python ./backend/main.py"
      ]
    },
    {
      "cell_type": "markdown",
      "source": [],
      "metadata": {
        "id": "BnPjDmlaLCfL"
      }
    }
  ],
  "metadata": {
    "accelerator": "GPU",
    "colab": {
      "name": "video-subtitle-extractor.ipynb",
      "provenance": []
    },
    "kernelspec": {
      "display_name": "Python 3 (ipykernel)",
      "language": "python",
      "name": "python3"
    },
    "language_info": {
      "codemirror_mode": {
        "name": "ipython",
        "version": 3
      },
      "file_extension": ".py",
      "mimetype": "text/x-python",
      "name": "python",
      "nbconvert_exporter": "python",
      "pygments_lexer": "ipython3",
      "version": "3.8.5"
    }
  },
  "nbformat": 4,
  "nbformat_minor": 0
}